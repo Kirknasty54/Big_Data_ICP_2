{
  "nbformat": 4,
  "nbformat_minor": 0,
  "metadata": {
    "colab": {
      "provenance": [],
      "authorship_tag": "ABX9TyODenPpmVFogompdQBywy4t",
      "include_colab_link": true
    },
    "kernelspec": {
      "name": "python3",
      "display_name": "Python 3"
    },
    "language_info": {
      "name": "python"
    }
  },
  "cells": [
    {
      "cell_type": "markdown",
      "metadata": {
        "id": "view-in-github",
        "colab_type": "text"
      },
      "source": [
        "<a href=\"https://colab.research.google.com/github/Kirknasty54/Big_Data_ICP_2/blob/main/Jackson_Kirkpatrick_ICP2.ipynb\" target=\"_parent\"><img src=\"https://colab.research.google.com/assets/colab-badge.svg\" alt=\"Open In Colab\"/></a>"
      ]
    },
    {
      "cell_type": "code",
      "execution_count": null,
      "metadata": {
        "colab": {
          "base_uri": "https://localhost:8080/"
        },
        "id": "KlMPuE6YF4lu",
        "outputId": "d5c72bee-d48a-45d9-9334-b0d086aeb909"
      },
      "outputs": [
        {
          "output_type": "stream",
          "name": "stdout",
          "text": [
            "[19, 19, 20, 22, 24, 24, 24, 25, 25, 26]\n",
            "Youngest:  19\n",
            "Oldest:  26\n",
            "Median Age:  24.0\n",
            "Average age:  22.8\n",
            "Range =  7\n"
          ]
        }
      ],
      "source": [
        "ages = [19, 22, 19, 24, 20, 25, 26, 24, 25, 24]\n",
        "ages.sort()\n",
        "print(ages)\n",
        "\n",
        "print(\"Youngest: \", min(ages))\n",
        "print(\"Oldest: \", max(ages))\n",
        "\n",
        "n = len(ages)\n",
        "median = 0\n",
        "if n % 2 == 0:\n",
        "  median = (ages[n//2 -1] + ages[n//2]) / 2\n",
        "else:\n",
        "  median = ages[n//2]\n",
        "print(\"Median Age: \", median)\n",
        "\n",
        "sum = 0\n",
        "for i in range (len(ages)):\n",
        "  sum += ages[i]\n",
        "sum /= len(ages)\n",
        "\n",
        "print(\"Average age: \", sum)\n",
        "print(\"Range = \", max(ages) - min(ages))"
      ]
    },
    {
      "cell_type": "code",
      "source": [
        "dog = {}\n",
        "dog = {\"Name\" : \"Mitch\", \"Color\" : \"Brown\", \"Breed\" : \"Beagle\", \"Legs\" : 4,\n",
        "       \"Age\" : 8}\n",
        "student = {\"First_Name\" : \"Jackson\", \"Last_Name\" : \"Kirkpatrick\", \"Gender\" : \"Male\",\n",
        "           \"Age\" : \"20\", \"Marital Status\" : \"Dating\", \"Skills\" : [\"Programmer\", \"Software Engineer\", \"Mathmatician\"],\n",
        "           \"Country\" : \"USA\", \"City\" : \"Warrensburg\", \"Address\" : \"254 South St\"}\n",
        "print(\"Length of student dict: \", len(student))\n",
        "print(\"Student skills: \", student['Skills'])\n",
        "print(\"Skills data type: \", type(student['Skills']))\n",
        "\n",
        "student['Skills'].append(\"Communicator\")\n",
        "student['Skills'].append(\"Bilingual\")\n",
        "print(\"Updated skills: \", student['Skills'])\n",
        "\n",
        "keyList = list(student.keys())\n",
        "valueList = list(student.values())\n",
        "print(list(student.keys()))\n",
        "print(list(student.values()))"
      ],
      "metadata": {
        "colab": {
          "base_uri": "https://localhost:8080/"
        },
        "id": "-79MDAASJBgI",
        "outputId": "c7ecd973-5a58-4b14-90cc-d3baa7d33b13"
      },
      "execution_count": null,
      "outputs": [
        {
          "output_type": "stream",
          "name": "stdout",
          "text": [
            "Length of student dict:  9\n",
            "Student skills:  ['Programmer', 'Software Engineer', 'Mathmatician']\n",
            "Skills data type:  <class 'list'>\n",
            "Updated skills:  ['Programmer', 'Software Engineer', 'Mathmatician', 'Communicator', 'Bilingual']\n",
            "['First_Name', 'Last_Name', 'Gender', 'Age', 'Marital Status', 'Skills', 'Country', 'City', 'Address']\n",
            "['Jackson', 'Kirkpatrick', 'Male', '20', 'Dating', ['Programmer', 'Software Engineer', 'Mathmatician', 'Communicator', 'Bilingual'], 'USA', 'Warrensburg', '254 South St']\n"
          ]
        }
      ]
    },
    {
      "cell_type": "code",
      "source": [
        "it_companies = {'Facebook', 'Google', 'Microsoft', 'Apple', 'IBM', 'Oracle', 'Amazon'}\n",
        "A = {19, 22, 24, 20, 25, 26}\n",
        "B = {19, 22, 20, 25, 26, 24, 28, 27}\n",
        "age = [22, 19, 24, 25, 26, 24, 25, 24]\n",
        "\n",
        "print(len(it_companies))\n",
        "it_companies.add('Twitter')\n",
        "print(it_companies)\n",
        "it_companies.update({'Samsung', 'Acer', 'Lenovo'})\n",
        "print(it_companies)\n",
        "it_companies.remove('Samsung')\n",
        "print(it_companies)\n",
        "\n",
        "print(\"Discard will raise an error if the value given in its parameter is not found.\\n\"\n",
        "\"Whereas remove will raise an error.\")\n",
        "C = A | B\n",
        "print('Merged sets: ', C)\n",
        "print(\"The intersection of A and B is: \", A.intersection(B))\n",
        "print(\"A is a subset of B?: \", A.issubset(B))\n",
        "print(\"A and B are disjointed sets?: \", A.isdisjoint(B))\n",
        "D = B | A\n",
        "print(C, '\\n', D)\n",
        "print(\"Symmetric difference is: \", A.symmetric_difference(B))\n",
        "\n",
        "A.clear()\n",
        "B.clear()\n",
        "print(A)\n",
        "print(B)\n",
        "print(\"Length of age list: \", age, \"\\nLength of age set: \", set(age))"
      ],
      "metadata": {
        "colab": {
          "base_uri": "https://localhost:8080/"
        },
        "id": "GwI9QNSkPDGI",
        "outputId": "b40b02ff-4843-4a86-a342-e6a5a4be765a"
      },
      "execution_count": 103,
      "outputs": [
        {
          "output_type": "stream",
          "name": "stdout",
          "text": [
            "7\n",
            "{'Facebook', 'IBM', 'Amazon', 'Apple', 'Microsoft', 'Google', 'Oracle', 'Twitter'}\n",
            "{'Acer', 'Amazon', 'Samsung', 'Apple', 'IBM', 'Google', 'Oracle', 'Twitter', 'Lenovo', 'Facebook', 'Microsoft'}\n",
            "{'Acer', 'Amazon', 'Apple', 'IBM', 'Google', 'Oracle', 'Twitter', 'Lenovo', 'Facebook', 'Microsoft'}\n",
            "Discard will raise an error if the value given in its parameter is not found.\n",
            "Whereas remove will raise an error.\n",
            "Merged sets:  {19, 20, 22, 24, 25, 26, 27, 28}\n",
            "The intersection of A and B is:  {19, 20, 22, 24, 25, 26}\n",
            "A is a subset of B?:  True\n",
            "A and B are disjointed sets?:  False\n",
            "{19, 20, 22, 24, 25, 26, 27, 28} \n",
            " {19, 20, 22, 24, 25, 26, 27, 28}\n",
            "Symmetric difference is:  {27, 28}\n",
            "set()\n",
            "set()\n",
            "Length of age list:  [22, 19, 24, 25, 26, 24, 25, 24] \n",
            "Length of age set:  {19, 22, 24, 25, 26}\n"
          ]
        }
      ]
    },
    {
      "cell_type": "code",
      "source": [
        "class Employee:\n",
        "  numEmployee = 0\n",
        "\n",
        "  def __init__(self, name, family, salary, department):\n",
        "    self.name = name\n",
        "    self.family = family\n",
        "    self.salary = salary\n",
        "    self.department = department\n",
        "    Employee.numEmployee += 1\n",
        "\n",
        "  @staticmethod\n",
        "  def averageSalary(employees):\n",
        "    avgSalary = 0\n",
        "    for employee in employees:\n",
        "      avgSalary += employee.salary\n",
        "    return round(avgSalary / Employee.numEmployee, 2)\n",
        "\n",
        "class FulltimeEmployee(Employee):\n",
        "  def __init__(self, name, family, salary, department):\n",
        "    super().__init__(name, family, salary, department)\n",
        "\n",
        "e1 = Employee('Jared', 3, 125000, 'IT')\n",
        "e2 = Employee('Kevin', 3, 250000, 'IT')\n",
        "e3 = Employee('Samuel', 0, 200000, 'IT')\n",
        "e4 = Employee('Mason', 2, 121250, 'IT')\n",
        "\n",
        "e5 = FulltimeEmployee('Karen', 0, 100000, 'HR')\n",
        "e6 = FulltimeEmployee('Xavier', 0, 100000, 'HR')\n",
        "e7 = FulltimeEmployee('Sopiha', 0, 100000, 'HR')\n",
        "\n",
        "eList = [e1, e2, e3, e4, e5, e6, e7]\n",
        "print(Employee.averageSalary(eList))"
      ],
      "metadata": {
        "colab": {
          "base_uri": "https://localhost:8080/"
        },
        "id": "Y8hQmeUziTDM",
        "outputId": "65dc0e2c-bdc1-4076-d0f9-2bfb77569fe5"
      },
      "execution_count": 102,
      "outputs": [
        {
          "output_type": "stream",
          "name": "stdout",
          "text": [
            "142321.43\n"
          ]
        }
      ]
    }
  ]
}